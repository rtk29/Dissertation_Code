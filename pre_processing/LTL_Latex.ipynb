{
 "cells": [
  {
   "cell_type": "markdown",
   "id": "78e951e9",
   "metadata": {},
   "source": [
    "### Convert tex form to LTL form"
   ]
  },
  {
   "cell_type": "code",
   "execution_count": 5,
   "id": "14350f5b",
   "metadata": {},
   "outputs": [
    {
     "name": "stdout",
     "output_type": "stream",
     "text": [
      "Conversion completed. Converted LTL formulas saved to converted_ltl_formulas.txt\n"
     ]
    }
   ],
   "source": [
    "import re\n",
    "\n",
    "# Define a mapping of LaTeX commands and symbols to LTL equivalents\n",
    "latex_to_ltl = {\n",
    "    r'\\text{G}': 'G',\n",
    "    r'\\rightarrow': '->',\n",
    "    r'\\land': '&',\n",
    "    r'\\lor': '|',\n",
    "    r'\\neg': '~',\n",
    "    r'\\text{X}': 'X',\n",
    "}\n",
    "\n",
    "# Read LaTeX formulas from file\n",
    "input_filename = 'latex_formulas.txt'\n",
    "output_filename = 'converted_ltl_formulas.txt'\n",
    "latex_formulas = []\n",
    "\n",
    "with open(input_filename, 'r') as file:\n",
    "    latex_formulas = file.readlines()\n",
    "\n",
    "# Process each LaTeX formula and convert to LTL\n",
    "ltl_formulas = []\n",
    "for latex_formula in latex_formulas:\n",
    "    latex_formula = latex_formula.strip()\n",
    "\n",
    "    # Replace LaTeX commands and symbols with LTL equivalents\n",
    "    for latex, ltl in latex_to_ltl.items():\n",
    "        latex_formula = re.sub(re.escape(latex), ltl, latex_formula)\n",
    "\n",
    "    ltl_formulas.append(latex_formula)\n",
    "\n",
    "# Combine LTL formulas if needed\n",
    "combined_ltl_formulas = '\\n'.join(ltl_formulas)\n",
    "\n",
    "# Write the converted LTL formulas to an output file\n",
    "with open(output_filename, 'w') as file:\n",
    "    file.write(combined_ltl_formulas)\n",
    "\n",
    "print(\"Conversion completed. Converted LTL formulas saved to\", output_filename)\n"
   ]
  },
  {
   "cell_type": "markdown",
   "id": "262730ff",
   "metadata": {},
   "source": [
    "### Remove the \\tex string present within the LTL form"
   ]
  },
  {
   "cell_type": "code",
   "execution_count": 10,
   "id": "f12c6ec7",
   "metadata": {},
   "outputs": [
    {
     "name": "stdout",
     "output_type": "stream",
     "text": [
      "Final LTL formulas saved to final_ltl_formulas.txt\n"
     ]
    }
   ],
   "source": [
    "import re\n",
    "\n",
    "# Define a function to convert LaTeX commands within the text\n",
    "def convert_latex(match):\n",
    "    latex_command = match.group(1)\n",
    "    return latex_command.replace(\"\\\\text{\", \"\").replace(\"}\", \"\")\n",
    "\n",
    "# Read the input string from a text file\n",
    "input_filename = \"converted_ltl_formulas.txt\"\n",
    "with open(input_filename, \"r\") as file:\n",
    "    input_string = file.read()\n",
    "\n",
    "# Replace LaTeX commands within the string\n",
    "converted_string = re.sub(r\"\\\\text{([^}]+)}\", convert_latex, input_string)\n",
    "\n",
    "# Add parentheses around the main formula\n",
    "final_string = f\"({converted_string})\"\n",
    "\n",
    "# Write the final result to an output file\n",
    "output_filename = \"final_ltl_formulas.txt\"\n",
    "with open(output_filename, \"w\") as file:\n",
    "    file.write(final_string)\n",
    "\n",
    "print(\"Final LTL formulas saved to\", output_filename)\n"
   ]
  },
  {
   "cell_type": "markdown",
   "id": "ff279705",
   "metadata": {},
   "source": [
    "### Modified LTL formulas file"
   ]
  },
  {
   "cell_type": "code",
   "execution_count": 21,
   "id": "88aa3b8b",
   "metadata": {},
   "outputs": [
    {
     "name": "stdout",
     "output_type": "stream",
     "text": [
      "Modified formulas saved to modified_formulas.txt\n"
     ]
    }
   ],
   "source": [
    "# Define a function to strip and slice the string to get the LTL formula\n",
    "def perform_operation(formula):\n",
    "    modified_formula = formula[3:-3].strip()\n",
    "    return modified_formula\n",
    "\n",
    "# Read the final LTL formulas from the file\n",
    "input_filename = \"final_ltl_formulas.txt\"\n",
    "with open(input_filename, \"r\") as file:\n",
    "    formulas_lines = file.readlines()\n",
    "\n",
    "# Perform the operation on each formula\n",
    "modified_formulas = [perform_operation(formula) for formula in formulas_lines]\n",
    "\n",
    "# Write the modified formulas to a new text file\n",
    "output_filename = \"modified_formulas.txt\"\n",
    "with open(output_filename, \"w\") as output_file:\n",
    "    for formula in modified_formulas:\n",
    "        output_file.write(formula + \"\\n\")\n",
    "\n",
    "print(\"Modified formulas saved to\", output_filename)\n"
   ]
  },
  {
   "cell_type": "markdown",
   "id": "09bab245",
   "metadata": {},
   "source": [
    "### Strip the formulas of the white spaces at the end of each formula"
   ]
  },
  {
   "cell_type": "code",
   "execution_count": 26,
   "id": "5cf90bad",
   "metadata": {},
   "outputs": [
    {
     "name": "stdout",
     "output_type": "stream",
     "text": [
      "Modified formulas saved to modified_final_translations.txt\n"
     ]
    }
   ],
   "source": [
    "import os\n",
    "\n",
    "# Define a function to strip and slice the string to get the LTL formula\n",
    "def perform_operation(formula):\n",
    "    modified_formula = formula.strip()\n",
    "    return modified_formula\n",
    "\n",
    "# Read the final LTL formulas from the file\n",
    "input_filename = r\"D:\\Dissertation\\Papers\\nl2spec-main\\nl2spec-main\\pre_processing\\modified_formulas.txt\"\n",
    "with open(input_filename, \"r\") as file:\n",
    "    formulas_lines = file.readlines()\n",
    "\n",
    "# Perform the operation on each formula\n",
    "modified_formulas = [perform_operation(formula) for formula in formulas_lines]\n",
    "\n",
    "# Write the modified formulas to a new text file\n",
    "output_directory = \"D:/Dissertation/Papers/nl2spec-main/nl2spec-main/pre_processing\"\n",
    "output_filename = \"modified_final_translations.txt\"\n",
    "output_file_path = os.path.join(output_directory, output_filename)\n",
    "\n",
    "with open(output_file_path, \"w\") as output_file:\n",
    "    for formula in modified_formulas:\n",
    "        output_file.write(formula + \"\\n\")\n",
    "\n",
    "print(\"Modified formulas saved to\", output_filename)"
   ]
  },
  {
   "cell_type": "markdown",
   "id": "2d5ee793",
   "metadata": {},
   "source": [
    "### Convert the modified formulas into lower case"
   ]
  },
  {
   "cell_type": "code",
   "execution_count": null,
   "id": "fa1263d1",
   "metadata": {},
   "outputs": [],
   "source": [
    "import re\n",
    "\n",
    "# Input and output file paths\n",
    "input_file_path = 'modified_formulas.txt'\n",
    "output_file_path = 'modified_formulas_lowercase.txt'\n",
    "\n",
    "# Initialize a list to store the processed lines\n",
    "processed_lines = []\n",
    "\n",
    "# Read the input text from the file and process each line\n",
    "with open(input_file_path, 'r') as input_file:\n",
    "    for line in input_file:\n",
    "        # Use regular expression to extract strings within parentheses and convert them to lowercase\n",
    "        matches = re.findall(r'\\(([^)]+)\\)', line)\n",
    "        converted_matches = [f'({match.lower()})' for match in matches]\n",
    "        \n",
    "        # Join the extracted strings with 'G' and a comma\n",
    "        result_line = ', '.join(['G ' + formula for formula in converted_matches])\n",
    "        \n",
    "        # Append the processed line to the list\n",
    "        processed_lines.append(result_line)\n",
    "\n",
    "# Join the processed lines with newlines\n",
    "result_text = '\\n'.join(processed_lines)\n",
    "\n",
    "# Write the result to the output file\n",
    "with open(output_file_path, 'w') as output_file:\n",
    "    output_file.write(result_text)\n",
    "\n",
    "print(\"Conversion complete. Output saved to\", output_file_path)"
   ]
  }
 ],
 "metadata": {
  "kernelspec": {
   "display_name": "Python 3 (ipykernel)",
   "language": "python",
   "name": "python3"
  },
  "language_info": {
   "codemirror_mode": {
    "name": "ipython",
    "version": 3
   },
   "file_extension": ".py",
   "mimetype": "text/x-python",
   "name": "python",
   "nbconvert_exporter": "python",
   "pygments_lexer": "ipython3",
   "version": "3.9.12"
  }
 },
 "nbformat": 4,
 "nbformat_minor": 5
}
